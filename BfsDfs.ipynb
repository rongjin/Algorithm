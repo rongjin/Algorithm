{
 "cells": [
  {
   "cell_type": "markdown",
   "metadata": {},
   "source": [
    "# BFS and DFS"
   ]
  },
  {
   "cell_type": "markdown",
   "metadata": {},
   "source": [
    "## Breadth First Search"
   ]
  },
  {
   "cell_type": "markdown",
   "metadata": {},
   "source": [
    "Breadth-first search (BFS) is an algorithm for traversing (level-order) or searching tree or graph data structures. It can be sued to find the shortest path out of a maze. The time complexity can be expressed as O(|V|+|E|)."
   ]
  },
  {
   "cell_type": "code",
   "execution_count": 7,
   "metadata": {
    "collapsed": true
   },
   "outputs": [],
   "source": [
    "#Can be impletmented iteratively with a queue.\n",
    "def bfs(graph, start):\n",
    "    visited = set()\n",
    "    queue = [start]\n",
    "    while queue:\n",
    "        vertex = queue.pop(0)\n",
    "        if vertex not in visited:\n",
    "            visited.add(vertex)\n",
    "            queue.extend(graph[vertex] - visited)\n",
    "    return visited"
   ]
  },
  {
   "cell_type": "markdown",
   "metadata": {},
   "source": [
    "### Connected component (can be done in both bfs and dfs)"
   ]
  },
  {
   "cell_type": "code",
   "execution_count": 25,
   "metadata": {
    "collapsed": true
   },
   "outputs": [],
   "source": [
    "def bfs(graph,node):\n",
    "    visited.append(node)\n",
    "    label[node] = current_label\n",
    "    for v in node.neighbors:\n",
    "        if v not in visited:\n",
    "            bfs(graph,v)\n",
    "\n",
    "def connected_component(graph):\n",
    "    visited = set()\n",
    "    label = {}             #store the label of each node\n",
    "    current_label = 1      #component 1\n",
    "    for node in graph:\n",
    "        if node not in visited:\n",
    "            bfs(graph,node)\n",
    "        current_label += 1"
   ]
  },
  {
   "cell_type": "markdown",
   "metadata": {},
   "source": [
    "## Depth First Search"
   ]
  },
  {
   "cell_type": "markdown",
   "metadata": {},
   "source": [
    "Depth-first search (DFS) is an algorithm for traversing or searching tree or graph data structures.The time complexity can be expressed as O(|V|+|E|).\n",
    "\n",
    "It is also possible to use the depth-first search to linearly order the vertices of the original graph (or tree). There are three common orders: pre-order, in-order and post-order."
   ]
  },
  {
   "cell_type": "code",
   "execution_count": 14,
   "metadata": {
    "collapsed": true
   },
   "outputs": [],
   "source": [
    "#Can be impletmented iteratively with a stack. this one is pre-order traversal.\n",
    "def dfs(graph, start):\n",
    "    visited = set() \n",
    "    stack = [start]\n",
    "    while stack:\n",
    "        vertex = stack.pop()\n",
    "        if vertex not in visited:\n",
    "            visited.add(vertex)\n",
    "            stack.extend(graph[vertex] - visited)\n",
    "    return visited"
   ]
  },
  {
   "cell_type": "markdown",
   "metadata": {},
   "source": [
    "### Topological sort"
   ]
  },
  {
   "cell_type": "markdown",
   "metadata": {},
   "source": [
    "The canonical application of topological sorting (topological order) is in scheduling a sequence of jobs or tasks based on their dependencies. \n",
    "\n",
    "A topological ordering is possible if and only if the graph has no directed cycles, that is, if it is a directed acyclic graph (DAG). \n",
    "\n",
    "Any DAG has at least one topological ordering, and algorithms are known for constructing a topological ordering of any DAG in linear time."
   ]
  },
  {
   "cell_type": "code",
   "execution_count": 26,
   "metadata": {
    "collapsed": false
   },
   "outputs": [],
   "source": [
    "def dfs(graph,node):\n",
    "    visited.append(node)\n",
    "    for v in node.neighbors:\n",
    "        if v not in visited:\n",
    "            dfs(graph,v)\n",
    "    order[node] = current_label\n",
    "    current_label -= 1\n",
    "        \n",
    "def topological_sort(graph):\n",
    "    visited = set()\n",
    "    order = {}                        #store the order of each node\n",
    "    current_label = len(graph)        #the order\n",
    "    for node in graph:\n",
    "        if node not in visited:\n",
    "            dfs(graph,node)"
   ]
  },
  {
   "cell_type": "code",
   "execution_count": null,
   "metadata": {
    "collapsed": true
   },
   "outputs": [],
   "source": []
  }
 ],
 "metadata": {
  "kernelspec": {
   "display_name": "Python 2",
   "language": "python",
   "name": "python2"
  },
  "language_info": {
   "codemirror_mode": {
    "name": "ipython",
    "version": 2
   },
   "file_extension": ".py",
   "mimetype": "text/x-python",
   "name": "python",
   "nbconvert_exporter": "python",
   "pygments_lexer": "ipython2",
   "version": "2.7.11"
  }
 },
 "nbformat": 4,
 "nbformat_minor": 0
}
