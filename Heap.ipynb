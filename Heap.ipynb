{
 "cells": [
  {
   "cell_type": "markdown",
   "metadata": {},
   "source": [
    "# Heap"
   ]
  },
  {
   "cell_type": "markdown",
   "metadata": {},
   "source": [
    "In computer science, a heap is a specialized tree-based data structure.\n",
    "\n",
    "A heap can be classified further as either a \"max heap\" or a \"min heap\". In a max heap, the keys of parent nodes are always greater than or equal to those of the children and the highest key is in the root node. "
   ]
  },
  {
   "cell_type": "markdown",
   "metadata": {},
   "source": [
    "## Basic operations:"
   ]
  },
  {
   "cell_type": "markdown",
   "metadata": {},
   "source": [
    "find-min: Θ(1)\n",
    "\n",
    "insert: Θ(log n)\n",
    "\n",
    "delete-min: Θ(log n)\n",
    "\n",
    "decrease-key: Θ(log n)"
   ]
  },
  {
   "cell_type": "markdown",
   "metadata": {},
   "source": [
    "## Application: Heapsort"
   ]
  },
  {
   "cell_type": "markdown",
   "metadata": {},
   "source": [
    "The performance of this algorithm is O(n + n * log(n)).\n",
    "\n",
    "Heapsort can be performed in place.\n",
    "\n",
    "Heap sort use a max heap."
   ]
  },
  {
   "cell_type": "code",
   "execution_count": 7,
   "metadata": {
    "collapsed": true
   },
   "outputs": [],
   "source": [
    "def heapsort(A, count):\n",
    "    #using a max heap\n",
    "    heapify(A, count)                  # heapify the list A,max value is at the root\n",
    "    end = count-1                      # aleays keep a[end:count] in sorted order\n",
    "    while end > 0:\n",
    "        swap(A[end], A[0])             # a[0] is the root and largest value. \n",
    "                                       # swap moves it in front of the sorted elements.\n",
    "        end -= 1                       # the heap size is reduced by one\n",
    "        siftDown(a, 0, end)            # swap ruined the heap property, so restore it"
   ]
  },
  {
   "cell_type": "markdown",
   "metadata": {},
   "source": [
    "## Application: Dijkstra's shortest-path algorithm"
   ]
  },
  {
   "cell_type": "markdown",
   "metadata": {},
   "source": [
    "Dijkstra's algorithm is an algorithm for finding the shortest paths between a single node as the \"source\" node and finds shortest paths from the source to all other nodes in the graph, producing a shortest-path tree.\n",
    "\n",
    "Orinigal algorithm runs in time O(|V|^2) (where |V| is the number of nodes).  \n",
    "\n",
    "The implementation based on a min-priority queue runs in O(|E|+|V|\\log|V|) (where |E| is the number of edges)."
   ]
  },
  {
   "cell_type": "code",
   "execution_count": 8,
   "metadata": {
    "collapsed": true
   },
   "outputs": [],
   "source": [
    "def dijkstra(self,graph,source):\n",
    "\tdist = {}\n",
    "\tvisited = {}\n",
    "\tunvisited = []                         #initialte the heap\n",
    "\tfor v in graph.keys():\n",
    "\t\tif v==source:\n",
    "\t\t\tdist[v] = 0\n",
    "\t\t\theapq.heappush(unvisited,(0,source))\n",
    "\t\telse:\n",
    "\t\t\tdist[v] = sys.maxint\n",
    "\t\t\theapq.heappush(unvisited,(sys.maxint,v)) #Unknown distance from source to v\n",
    "            \n",
    "\twhile(len(unvisited)>0):               # The main loop\n",
    "\t\tuv = heapq.heappop(unvisited)      # Remove and return best vertex\n",
    "\t\tcur = uv[1]\n",
    "\t\tvisited[cur] = 1                   # label vertex as explored\n",
    "\t\tneighbor = graph[cur]\n",
    "\t\tfor nei in neighbor:\n",
    "\t\t\tnex,distance = nei\n",
    "\t\t\tif nex in visited:             # only consider vertex that is unexplored\n",
    "\t\t\t\tcontinue\n",
    "\t\t\tnew_dist = dist[cur]+distance  # update distance\n",
    "\t\t\tif new_dist<dist[nex]:\n",
    "\t\t\t\tdist[nex] = new_dist\n",
    "\t\t\t\tunvisited = []             # rebuild the heapque\n",
    "\t\t\t\tfor i in graph.keys():     \n",
    "\t\t\t\t\tif i in visited:\n",
    "\t\t\t\t\t\tcontinue\n",
    "\t\t\t\t\theapq.heappush(unvisited,(dist[i],i))\n",
    "\treturn dist"
   ]
  },
  {
   "cell_type": "markdown",
   "metadata": {},
   "source": [
    "## Application: Median maintainance"
   ]
  },
  {
   "cell_type": "markdown",
   "metadata": {},
   "source": [
    "Use a max heap on left side to represent elements that are less than effective median, and a min heap on right side to represent elements that are greater than effective median."
   ]
  },
  {
   "cell_type": "code",
   "execution_count": 6,
   "metadata": {
    "collapsed": true
   },
   "outputs": [],
   "source": [
    "def medMaintain(self,nums):\n",
    "    #python's heapq is a min heap\n",
    "    #put negative values to min-heap to use as a max-heap\n",
    "\tmedians = [nums[0]]\n",
    "\theap1 = [-nums[0]]  #maxheap,store smaller half\n",
    "\theap2 = []  #minheap,store larger half\n",
    "\t#median is aleays the negative of min of heap1,or -heap1[0]\n",
    "\tfor i in range(1,len(nums)):\n",
    "\t\tif nums[i]<-heap1[0]:                        #case1\n",
    "\t\t\tif len(heap1)==len(heap2):\n",
    "\t\t\t\theapq.heappush(heap1,-nums[i])\n",
    "\t\t\telse:\n",
    "\t\t\t\ttemp = -heapq.heappop(heap1)\n",
    "\t\t\t\theapq.heappush(heap1,-nums[i])\n",
    "\t\t\t\theapq.heappush(heap2,temp)\n",
    "\t\telif nums[i]<heap2[0]:                       #case2\n",
    "\t\t\tif len(heap1)==len(heap2):\n",
    "\t\t\t\theapq.heappush(heap1,-nums[i])\n",
    "\t\t\telse:\n",
    "\t\t\t\theapq.heappush(heap2,nums[i])\n",
    "\t\telse:                                        #case3\n",
    "\t\t\tif len(heap1)>len(heap2):\n",
    "\t\t\t\theapq.heappush(heap2,nums[i])\n",
    "\t\t\telse:\n",
    "\t\t\t\ttemp = -heapq.heappop(heap2)\n",
    "\t\t\t\theapq.heappush(heap2,nums[i])\n",
    "\t\t\t\theapq.heappush(heap1,temp)\n",
    "\t\tmedians.append(-heap1[0])\n",
    "\treturn medians"
   ]
  },
  {
   "cell_type": "code",
   "execution_count": null,
   "metadata": {
    "collapsed": true
   },
   "outputs": [],
   "source": []
  }
 ],
 "metadata": {
  "kernelspec": {
   "display_name": "Python 2",
   "language": "python",
   "name": "python2"
  },
  "language_info": {
   "codemirror_mode": {
    "name": "ipython",
    "version": 2
   },
   "file_extension": ".py",
   "mimetype": "text/x-python",
   "name": "python",
   "nbconvert_exporter": "python",
   "pygments_lexer": "ipython2",
   "version": "2.7.11"
  }
 },
 "nbformat": 4,
 "nbformat_minor": 0
}
