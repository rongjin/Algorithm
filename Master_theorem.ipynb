{
 "cells": [
  {
   "cell_type": "markdown",
   "metadata": {},
   "source": [
    "# Master theorem\n"
   ]
  },
  {
   "cell_type": "markdown",
   "metadata": {},
   "source": [
    "Given an algorithm with the recursive form:\n",
    "\n",
    "\\begin{equation*}\n",
    "T(n)   = aT(\\frac{n}{b})+f(n^d),\\text{where $a>=1,b>1$}.\n",
    "\\end{equation*}\n",
    "\n",
    "Then it is possible to determine an asymptotic tight bound in these three cases:\n",
    "\n",
    "\\begin{align}\n",
    "T(n)  = \n",
    "\\begin{Bmatrix}\n",
    "O(n^dlog(n)) &\\text{  if $a=b^d$ (case1)}\\\\\n",
    "O(n^d)  &\\text{  if $a<b^d$ (case2)}\\\\\n",
    "O(n^{log_ba}) &\\text{  if $a>b^d$ (case3)}\n",
    "\\end{Bmatrix}\n",
    "\\end{align}\n"
   ]
  },
  {
   "cell_type": "markdown",
   "metadata": {},
   "source": [
    "## Examples"
   ]
  },
  {
   "cell_type": "markdown",
   "metadata": {},
   "source": [
    "### case1\n"
   ]
  },
  {
   "cell_type": "markdown",
   "metadata": {},
   "source": [
    "Merge sort:(a=2,b=2,d=1)\n",
    "\\begin{align}\n",
    "\\ T(n)   &= 2T(\\frac{n}{2})+f(n)\\\\\n",
    "\\ T(n) &= O(nlog(n))\n",
    "\\end{align}\n",
    "\n",
    "Binary search:(a=1,b=2,d=0)\n",
    "\\begin{align}\n",
    "T(n)  & = T(\\frac{n}{2})+f(1)\\\\\n",
    "T(n) &= O(log(n))\n",
    "\\end{align}"
   ]
  },
  {
   "cell_type": "markdown",
   "metadata": {},
   "source": [
    "### case2"
   ]
  },
  {
   "cell_type": "markdown",
   "metadata": {},
   "source": [
    "Strassen's matrix multiplication:(a=7,b=2,d=2)\n",
    "\\begin{align}\n",
    "T(n)  & = 7T(\\frac{n}{2})+f(n^2)\\\\\n",
    "T(n) &= O(n^2)\n",
    "\\end{align}"
   ]
  },
  {
   "cell_type": "markdown",
   "metadata": {},
   "source": [
    "### case 3"
   ]
  },
  {
   "cell_type": "markdown",
   "metadata": {},
   "source": [
    "Gauss's integer multiplication:(a=3,b=2,d=1)\n",
    "\\begin{align}\n",
    "T(n)  & = 3T(\\frac{n}{2})+f(n)\\\\\n",
    "T(n) &= O(n^{log_2{3}})\n",
    "\\end{align}\n"
   ]
  },
  {
   "cell_type": "code",
   "execution_count": null,
   "metadata": {
    "collapsed": true
   },
   "outputs": [],
   "source": []
  }
 ],
 "metadata": {
  "kernelspec": {
   "display_name": "Python 2",
   "language": "python",
   "name": "python2"
  },
  "language_info": {
   "codemirror_mode": {
    "name": "ipython",
    "version": 2
   },
   "file_extension": ".py",
   "mimetype": "text/x-python",
   "name": "python",
   "nbconvert_exporter": "python",
   "pygments_lexer": "ipython2",
   "version": "2.7.11"
  }
 },
 "nbformat": 4,
 "nbformat_minor": 0
}
