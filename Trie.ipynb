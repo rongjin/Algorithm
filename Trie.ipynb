{
 "cells": [
  {
   "cell_type": "markdown",
   "metadata": {},
   "source": [
    "# Trie"
   ]
  },
  {
   "cell_type": "markdown",
   "metadata": {},
   "source": [
    "1. Trie, also called digital tree and sometimes radix tree or prefix tree, is an ordered tree data structure that is used to store a dynamic set or associative array where the keys are usually strings.[Wikipedia](https://en.wikipedia.org/wiki/Trie).\n",
    "\n",
    "2. Pros compared to Hash\n",
    "\n",
    "  1. Looking up data in a trie is faster in the worst case, O(m) time (where m is the length of a search string), compared to an imperfect hash table.\n",
    "  \n",
    "  2. There are no collisions of different keys in a trie.\n",
    "  \n",
    "  3. There is no need to provide a hash function\n",
    "  \n",
    "  4. A trie can provide an alphabetical ordering of the entries by key.\n",
    "  \n",
    "3. Cons compared to Hash\n",
    "\n",
    "  1. Some keys, such as floating point numbers, can lead to long chains and prefixes that are not particularly meaningful.\n",
    "  \n",
    "  2. Some tries can require more space than a hash table, as memory may be allocated for each character in the search string, rather than a single chunk of memory for the whole entry, as in most hash tables.\n",
    "  "
   ]
  },
  {
   "cell_type": "code",
   "execution_count": 4,
   "metadata": {
    "collapsed": true
   },
   "outputs": [],
   "source": [
    "class TrieNode(object):\n",
    "\tdef __init__(self):\n",
    "\t\tself.word = False\n",
    "\t\tself.children = {}\n",
    "\n",
    "class Trie(object):\n",
    "\tdef __init__(self):\n",
    "\t\tself.root = TrieNode()\n",
    "\n",
    "\tdef insert(self,word):\n",
    "\t\tnode = self.root\n",
    "\t\tfor i in word:\n",
    "\t\t\tprint i\n",
    "\t\t\tprint node.children\n",
    "\t\t\tif i not in node.children:\n",
    "\t\t\t\tnode.children[i] = TrieNode()\n",
    "\t\t\tnode = node.children[i]\n",
    "\t\tnode.word = True\n",
    "\n",
    "\tdef search(self,word):\n",
    "\t\tnode = self.root\n",
    "\t\tfor i in word:\n",
    "\t\t\tif i not in node.children:\n",
    "\t\t\t\treturn False\n",
    "\t\t\tnode = node.children[i]\n",
    "\t\treturn node.word\n",
    "\n",
    "\tdef startsWith(self,prefix):\n",
    "\t\tnode = self.root\n",
    "\t\tfor i in prefix:\n",
    "\t\t\tif i not in node.children:\n",
    "\t\t\t\treturn False\n",
    "\t\t\tnode = node.children[i]\n",
    "\t\treturn True"
   ]
  },
  {
   "cell_type": "code",
   "execution_count": null,
   "metadata": {
    "collapsed": true
   },
   "outputs": [],
   "source": []
  }
 ],
 "metadata": {
  "kernelspec": {
   "display_name": "Python 2",
   "language": "python",
   "name": "python2"
  },
  "language_info": {
   "codemirror_mode": {
    "name": "ipython",
    "version": 2
   },
   "file_extension": ".py",
   "mimetype": "text/x-python",
   "name": "python",
   "nbconvert_exporter": "python",
   "pygments_lexer": "ipython2",
   "version": "2.7.11"
  }
 },
 "nbformat": 4,
 "nbformat_minor": 0
}
