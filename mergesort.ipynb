{
 "cells": [
  {
   "cell_type": "markdown",
   "metadata": {},
   "source": [
    "# Merge Sort and inversion count"
   ]
  },
  {
   "cell_type": "markdown",
   "metadata": {},
   "source": [
    "## Merge sort"
   ]
  },
  {
   "cell_type": "markdown",
   "metadata": {},
   "source": [
    "Merge sort produce a stable sort. But not a inplace sort.\n",
    "\n",
    "Merge sort has an average and worst-case performance of O(n log n)\n",
    "\n",
    "Merge sort parallelizes well due to use of the divide-and-conquer method. \n"
   ]
  },
  {
   "cell_type": "code",
   "execution_count": 1,
   "metadata": {
    "collapsed": true
   },
   "outputs": [],
   "source": [
    "def merge_sort(A,lo,hi,B):#A is the array to sort,B is working array\n",
    "    if(hi-lo < 2):\n",
    "        return\n",
    "    else:\n",
    "        mid = (lo+hi)/2; \n",
    "        merge_sort(A, lo, mid, B);\n",
    "        merge_sort(A, mid, hi, B);\n",
    "        merge(A,lo,mid,hi, B); "
   ]
  },
  {
   "cell_type": "markdown",
   "metadata": {},
   "source": [
    "## Inversion count"
   ]
  },
  {
   "cell_type": "markdown",
   "metadata": {},
   "source": [
    "Given an array of numbers, count the number of pairs of number that are in reversed order.\n",
    "\n",
    "Takes an average time complexity of O(n log n).\n",
    "\n",
    "Making use of merge sort."
   ]
  },
  {
   "cell_type": "code",
   "execution_count": 5,
   "metadata": {
    "collapsed": true
   },
   "outputs": [],
   "source": [
    "def inversion_count(A,lo,hi,B):#A is the array to sort,B is working array\n",
    "    if(hi-lo < 2):\n",
    "        return 0\n",
    "    else:\n",
    "        mid = (lo+hi)/2; \n",
    "        count1 = inversion_count(A, lo, mid, B);\n",
    "        count2 = inversion_count(A, mid, hi, B);\n",
    "        count3 = merge_count(A,lo,mid,hi, B); \n",
    "        return count1 + count2 + count3"
   ]
  },
  {
   "cell_type": "code",
   "execution_count": null,
   "metadata": {
    "collapsed": true
   },
   "outputs": [],
   "source": []
  }
 ],
 "metadata": {
  "kernelspec": {
   "display_name": "Python 2",
   "language": "python",
   "name": "python2"
  },
  "language_info": {
   "codemirror_mode": {
    "name": "ipython",
    "version": 2
   },
   "file_extension": ".py",
   "mimetype": "text/x-python",
   "name": "python",
   "nbconvert_exporter": "python",
   "pygments_lexer": "ipython2",
   "version": "2.7.11"
  }
 },
 "nbformat": 4,
 "nbformat_minor": 0
}
