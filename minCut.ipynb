{
 "cells": [
  {
   "cell_type": "markdown",
   "metadata": {},
   "source": [
    "# MinCut"
   ]
  },
  {
   "cell_type": "markdown",
   "metadata": {},
   "source": [
    "## Karger's algorithm\n",
    "\n",
    "Karger's algorithm is a randomized algorithm to compute a minimum cut of a connected graph.[Wikipedia](https://en.wikipedia.org/wiki/Karger%27s_algorithm).\n",
    "\n"
   ]
  },
  {
   "cell_type": "markdown",
   "metadata": {
    "collapsed": true
   },
   "source": [
    "#store graph in adjacency list.\n",
    "#also need to store a list of edges for a graph for random edge choice\n",
    "\n",
    "def contraction(graph):\n",
    "    while(no.of nodes in graph>2):\n",
    "        1 Randomly pick an edge that connect u and v(keep u,remove v)\n",
    "        2 for v’s adjacent nodes, scan their lists and replace all occurrence of v as u\n",
    "        3 attach node v’s list to node u’s\n",
    "        4 remove self-loops in u’s list(remove u and v)\n",
    "        5 remove v’s list from graph\n",
    "        6 update the edge list for the current graph\n",
    "    return number of edges between two nodes\n",
    "\n",
    "def mincut(graph):\n",
    "    n = no.of nodes in graph\n",
    "    for i in range(n*(n-1)/2* log(n)):\n",
    "        cut = contraction(graph)\n",
    "        if cut<cutmin:\n",
    "            cutmin = cut\n",
    "    return cutmin\n",
    "    "
   ]
  },
  {
   "cell_type": "markdown",
   "metadata": {},
   "source": [
    "## Success probability of the contraction algorithm:\n",
    "\n",
    "In a graph G=(V,E) with n=|V| vertices, the contraction algorithm returns a minimum cut with polynomially small probability $\\binom{n}{2}^{-1}$\n",
    "\n",
    "By repeating the contraction algorithm  $T = \\binom{n}{2}\\ln n$  times with independent random choices and returning the smallest cut, the probability of not finding a minimum cut is\n",
    "\n",
    "\\begin{equation*}\n",
    "\\Bigl[1-\\binom{n}{2}^{-1}\\Bigr]^T\n",
    "      \\leq \\frac{1}{e^{\\ln n}} = \\frac{1}{n}\\,.\n",
    "\\end{equation*}\n",
    "\n",
    "The total running time for T repetitions for a graph with n vertices and m edges is  $O(Tm) = O(n^2 m \\log n)$."
   ]
  },
  {
   "cell_type": "code",
   "execution_count": null,
   "metadata": {
    "collapsed": true
   },
   "outputs": [],
   "source": []
  }
 ],
 "metadata": {
  "kernelspec": {
   "display_name": "Python 2",
   "language": "python",
   "name": "python2"
  },
  "language_info": {
   "codemirror_mode": {
    "name": "ipython",
    "version": 2
   },
   "file_extension": ".py",
   "mimetype": "text/x-python",
   "name": "python",
   "nbconvert_exporter": "python",
   "pygments_lexer": "ipython2",
   "version": "2.7.11"
  }
 },
 "nbformat": 4,
 "nbformat_minor": 0
}
