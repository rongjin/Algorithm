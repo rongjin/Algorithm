{
 "cells": [
  {
   "cell_type": "markdown",
   "metadata": {},
   "source": [
    "# Quickselect and Quicksort"
   ]
  },
  {
   "cell_type": "markdown",
   "metadata": {},
   "source": [
    "## Quickselect"
   ]
  },
  {
   "cell_type": "markdown",
   "metadata": {},
   "source": [
    "Quickselect is a selection algorithm to find the kth smallest element in an unordered list.\n",
    "\n",
    "The average complexity is O(n).\n",
    "\n",
    "quickselect is generally implemented as an in-place algorithm"
   ]
  },
  {
   "cell_type": "code",
   "execution_count": 9,
   "metadata": {
    "collapsed": true
   },
   "outputs": [],
   "source": [
    "def partition(list, left, right, pivotIndex):\n",
    "     pivotValue = list[pivotIndex]\n",
    "     list[pivotIndex],list[right] = list[right],list[pivotIndex] # Move pivot to end\n",
    "     storeIndex = left\n",
    "     for i in range(left,right):\n",
    "         if list[i] < pivotValue:\n",
    "             list[storeIndex],list[i] = list[i],list[storeIndex] #swap\n",
    "             storeIndex += 1\n",
    "     list[right],list[storeIndex] = list[storeIndex],list[right]  # Move pivot to its final place\n",
    "     return storeIndex"
   ]
  },
  {
   "cell_type": "code",
   "execution_count": 8,
   "metadata": {
    "collapsed": false
   },
   "outputs": [],
   "source": [
    "def select(list, left, right, n):\n",
    "     if left == right:        \n",
    "         return list[left]  \n",
    "     pivotIndex  = left + floor(rand() % (right - left + 1))\n",
    "     pivotIndex  = partition(list, left, right, pivotIndex)\n",
    "     #The pivot is in its final sorted position\n",
    "     if n == pivotIndex:\n",
    "         return list[n]\n",
    "     elif n < pivotIndex:\n",
    "         return select(list, left, pivotIndex - 1, n)\n",
    "     else:\n",
    "         return select(list, pivotIndex + 1, right, n)"
   ]
  },
  {
   "cell_type": "markdown",
   "metadata": {},
   "source": [
    "## Quicksort"
   ]
  },
  {
   "cell_type": "markdown",
   "metadata": {},
   "source": [
    "In efficient implementations it is not a stable sort, meaning that the relative order of equal sort items is not preserved. \n",
    "\n",
    "Quicksort can operate in-place on an array, requiring small additional amounts of memory to perform the sorting.\n",
    "\n",
    "The average algorithm takes O(n log n) comparisons to sort n items. "
   ]
  },
  {
   "cell_type": "code",
   "execution_count": 14,
   "metadata": {
    "collapsed": false
   },
   "outputs": [],
   "source": [
    "def partition(A, lo, hi):\n",
    "    pivot = A[hi]\n",
    "    i = lo        # place for swapping\n",
    "    for j in range(lo,hi):\n",
    "        if A[j] <= pivot:\n",
    "            A[i],A[j] = A[j],A[i]\n",
    "            i += 1\n",
    "    A[i],A[hi] = A[hi],A[i]\n",
    "    return i\n"
   ]
  },
  {
   "cell_type": "code",
   "execution_count": 15,
   "metadata": {
    "collapsed": true
   },
   "outputs": [],
   "source": [
    "def quicksort(A, lo, hi):\n",
    "    if lo < hi:\n",
    "        p = partition(A, lo, hi)\n",
    "        quicksort(A, lo, p-1)\n",
    "        quicksort(A, p+1, hi)"
   ]
  },
  {
   "cell_type": "code",
   "execution_count": null,
   "metadata": {
    "collapsed": true
   },
   "outputs": [],
   "source": []
  }
 ],
 "metadata": {
  "kernelspec": {
   "display_name": "Python 2",
   "language": "python",
   "name": "python2"
  },
  "language_info": {
   "codemirror_mode": {
    "name": "ipython",
    "version": 2
   },
   "file_extension": ".py",
   "mimetype": "text/x-python",
   "name": "python",
   "nbconvert_exporter": "python",
   "pygments_lexer": "ipython2",
   "version": "2.7.11"
  }
 },
 "nbformat": 4,
 "nbformat_minor": 0
}
